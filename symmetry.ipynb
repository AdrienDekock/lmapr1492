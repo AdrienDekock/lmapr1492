{
 "cells": [
  {
   "cell_type": "code",
   "execution_count": 1,
   "id": "bridal-tribe",
   "metadata": {},
   "outputs": [],
   "source": [
    "from pymatgen.ext.matproj import MPRester\n",
    "from pymatgen.io.cif import CifWriter\n",
    "\n",
    "structure = MPRester(\"Sq4cCPhZ9eNQbF83\").get_structure_by_material_id(\"mp-984718\")\n",
    "structure.to(filename=\"BAs_mp-984718.cif\")\n",
    "CifWriter(structure,0.1, write_magmoms=False).write_file(\"BAs_mp-984718_symmetrized.cif\")"
   ]
  },
  {
   "cell_type": "code",
   "execution_count": 2,
   "id": "roman-costs",
   "metadata": {
    "scrolled": true
   },
   "outputs": [
    {
     "name": "stderr",
     "output_type": "stream",
     "text": [
      "/usr/local/lib64/python3.6/site-packages/pymatgen/io/cif.py:1194: UserWarning:\n",
      "\n",
      "Issues encountered while parsing CIF: Some fractional co-ordinates rounded to ideal values to avoid issues with finite precision.\n",
      "\n"
     ]
    },
    {
     "data": {
      "application/vnd.jupyter.widget-view+json": {
       "model_id": "b4c92a3006af4571a183009c5adaa97c",
       "version_major": 2,
       "version_minor": 0
      },
      "text/plain": [
       "JsmolView(layout=Layout(align_self='stretch', height='400px'))"
      ]
     },
     "metadata": {},
     "output_type": "display_data"
    }
   ],
   "source": [
    "from pymatgen import Structure\n",
    "from jupyter_jsmol.pymatgen import quick_view\n",
    "\n",
    "struct = Structure.from_file(\"BAs_mp-984718_symmetrized.cif\")\n",
    "view = quick_view(struct, \"packed\", conventional=True)\n",
    "display(view)\n",
    "\n",
    "view.script(\"draw symop 10{atomno=2}\")"
   ]
  },
  {
   "cell_type": "markdown",
   "id": "processed-mongolia",
   "metadata": {},
   "source": [
    "1 ère opération de symétrie (n°10 sur l'atome n°2):  \n",
    "\n",
    "Cette opération envoie (x,y,z) sur (-y,-x,z) ce qui correspond à une réflexion par un plan mirroir représenté en vert ci dessus:  \n",
    "-L'atome initial suit le vecteur bleu clair pour se retrouver \"réfléchit\" de l'autre coté du plan miroir (perpendiculaire à la direction [0,1,0].  \n",
    "-On se ramène ensuite à l'atome correspondant dans la cellule primitive, qui a une position identique à celle de l'atome initial (n°2).  \n",
    "Il n'a toutefois pas la même orientation car il a bien subit une réflexion... (On peut facilement le voir au repère dessiné sur l'atome initial, pour lequel les axes rouges et vert n'ont plus la même orientiation qu'initialement)"
   ]
  },
  {
   "cell_type": "code",
   "execution_count": 3,
   "id": "furnished-reporter",
   "metadata": {},
   "outputs": [
    {
     "data": {
      "application/vnd.jupyter.widget-view+json": {
       "model_id": "6fff33aa35164018abe9ff9eb8ec66fc",
       "version_major": 2,
       "version_minor": 0
      },
      "text/plain": [
       "JsmolView(layout=Layout(align_self='stretch', height='400px'))"
      ]
     },
     "metadata": {},
     "output_type": "display_data"
    }
   ],
   "source": [
    "struct = Structure.from_file(\"BAs_mp-984718_symmetrized.cif\")\n",
    "view = quick_view(struct, \"packed\", conventional=True)\n",
    "display(view)\n",
    "\n",
    "view.script(\"draw symop 5{atomno=1}\")"
   ]
  },
  {
   "cell_type": "markdown",
   "id": "prescription-stroke",
   "metadata": {},
   "source": [
    "2 ème opération de symétrie (n°5 sur l'atome n°1):  \n",
    "\n",
    "Cette opération envoie (x,y,z) sur (-x+y,-x,z) ce qui correspond à une rotation par un axe de rotation d'ordre 3 représenté par l'axe rouge ci-dessus:  \n",
    "-L'atome initial suit le vecteur rouge autour de l'axe de rotation [0,0,1] pour effectuer une rotation de 120° autour de celui ci, il se retouve dans une maille voisine à la maille primitive.  \n",
    "-On se ramène ensuite à l'atome correspondant dans la cellule primitive, qui a une position identique à celle de l'atome initial (n°1).  \n",
    "Il n'a toutefois pas la même orientation car il a bien subit une rotation... (On peut à nouveau le voir grâce au repère dessiné sur l'atome initial, pour lequel les axes rouges et vert n'ont plus la même orientiation qu'initialement.Il ont en effet simplement subi une rotation de 120° autour de l'axe bleu (local à l'atome n°1 initial)."
   ]
  },
  {
   "cell_type": "code",
   "execution_count": 4,
   "id": "valid-strategy",
   "metadata": {},
   "outputs": [
    {
     "data": {
      "application/vnd.jupyter.widget-view+json": {
       "model_id": "63a737edf0644380a735c6d3d429fdf8",
       "version_major": 2,
       "version_minor": 0
      },
      "text/plain": [
       "JsmolView(layout=Layout(align_self='stretch', height='400px'))"
      ]
     },
     "metadata": {},
     "output_type": "display_data"
    }
   ],
   "source": [
    "struct = Structure.from_file(\"BAs_mp-984718_symmetrized.cif\")\n",
    "view = quick_view(struct, \"packed\", conventional=True)\n",
    "display(view)\n",
    "\n",
    "view.script(\"draw symop 4{atomno=3}\")"
   ]
  },
  {
   "cell_type": "markdown",
   "id": "hidden-pavilion",
   "metadata": {},
   "source": [
    "3 ème opération de symétrie (n°4 sur l'atome n°3):  \n",
    "\n",
    "Cette opération envoie (x,y,z) sur (-x,-y,z+1/2) ce qui correspond à une rotation hélicoidale par un axe dhélicoidal d'ordre 2_1 représenté par l'axe orange ci-dessus:  \n",
    "-L'atome initial suit le vecteur rouge autour de l'axe de hélicoidal [0,0,1] pour effectuer une rotation de 180° autour de celui ci.  \n",
    "-Il subit ensuite une translation le long de l'axe c de c/2 (représenté par le vecteur orange).  \n",
    "-On se ramène ensuite à l'atome correspondant dans la cellule primitive, qui a cette fois une position différente de l'atome initial puisque l'on retombe sur l'atome n°1, sur lequel est représenté un repère final (= axes vert, rouge et mauve)."
   ]
  },
  {
   "cell_type": "code",
   "execution_count": null,
   "id": "original-browse",
   "metadata": {},
   "outputs": [],
   "source": []
  }
 ],
 "metadata": {
  "kernelspec": {
   "display_name": "Python 3",
   "language": "python",
   "name": "python3"
  },
  "language_info": {
   "codemirror_mode": {
    "name": "ipython",
    "version": 3
   },
   "file_extension": ".py",
   "mimetype": "text/x-python",
   "name": "python",
   "nbconvert_exporter": "python",
   "pygments_lexer": "ipython3",
   "version": "3.6.8"
  }
 },
 "nbformat": 4,
 "nbformat_minor": 5
}
