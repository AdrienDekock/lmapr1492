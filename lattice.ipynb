{
 "cells": [
  {
   "cell_type": "code",
   "execution_count": 1,
   "id": "private-conviction",
   "metadata": {},
   "outputs": [],
   "source": [
    "from pymatgen.ext.matproj import MPRester\n",
    "from pymatgen.io.cif import CifWriter\n",
    "\n",
    "structure = MPRester(\"Sq4cCPhZ9eNQbF83\").get_structure_by_material_id(\"mp-984718\")\n",
    "structure.to(filename=\"BAs_mp-984718.cif\")"
   ]
  },
  {
   "cell_type": "code",
   "execution_count": 2,
   "id": "noticed-brisbane",
   "metadata": {
    "scrolled": true
   },
   "outputs": [
    {
     "name": "stderr",
     "output_type": "stream",
     "text": [
      "/usr/local/lib64/python3.6/site-packages/pymatgen/io/cif.py:1194: UserWarning:\n",
      "\n",
      "Issues encountered while parsing CIF: Some fractional co-ordinates rounded to ideal values to avoid issues with finite precision.\n",
      "\n"
     ]
    }
   ],
   "source": [
    "from pymatgen import Structure\n",
    "from pymatgen.symmetry.analyzer import SpacegroupAnalyzer\n",
    "from jupyter_jsmol.pymatgen import quick_view\n",
    "\n",
    "struct = Structure.from_file(\"BAs_mp-984718.cif\")"
   ]
  },
  {
   "cell_type": "code",
   "execution_count": 3,
   "id": "unable-mongolia",
   "metadata": {},
   "outputs": [],
   "source": [
    "from pymatgen import Lattice, Structure\n",
    "lattice = Lattice.from_parameters(a=3.39093401,b=3.39093401,c=5.609546, alpha=90, beta=90, gamma=120)\n",
    "ABC=[[0,0,0],[0,0,0],[0,0,0]]\n",
    "for i in range(3):\n",
    "    abc=(str(lattice).split('\\n'))[i]\n",
    "    abc=abc.split(\" \")\n",
    "    ABC[i][0]=float(abc[0])\n",
    "    ABC[i][1]=float(abc[1])\n",
    "    ABC[i][2]=float(abc[2])"
   ]
  },
  {
   "cell_type": "code",
   "execution_count": 4,
   "id": "complex-necklace",
   "metadata": {},
   "outputs": [
    {
     "name": "stdout",
     "output_type": "stream",
     "text": [
      "VERIFICATIONS:\n",
      "2*pi = 6.283185307179586 6.283185307179586 6.283185307179586\n",
      "ZEROS = 0.0 0.0 0.0 0.0 0.0 0.0\n"
     ]
    }
   ],
   "source": [
    "import numpy as np\n",
    "a=ABC[0]\n",
    "b=ABC[1]\n",
    "c=ABC[2]\n",
    "volume=np.dot(np.cross(a,b),c)\n",
    "a_star=2*np.pi/volume * np.cross(b,c)\n",
    "b_star=2*np.pi/volume * np.cross(c,a)\n",
    "c_star=2*np.pi/volume * np.cross(a,b)\n",
    "print(\"VERIFICATIONS:\")\n",
    "print(\"2*pi =\",np.dot(a,a_star), np.dot(b,b_star), np.dot(c,c_star))\n",
    "print(\"ZEROS =\",np.dot(a,b_star),np.dot(b,a_star), np.dot(a,c_star), np.dot(c,a_star), np.dot(b,c_star), np.dot(c,b_star))"
   ]
  },
  {
   "cell_type": "code",
   "execution_count": 8,
   "id": "hydraulic-covering",
   "metadata": {},
   "outputs": [
    {
     "data": {
      "application/vnd.jupyter.widget-view+json": {
       "model_id": "cef7b53f3c1943b6a9c3972206dcab4f",
       "version_major": 2,
       "version_minor": 0
      },
      "text/plain": [
       "JsmolView(layout=Layout(align_self='stretch', height='400px'))"
      ]
     },
     "metadata": {},
     "output_type": "display_data"
    },
    {
     "name": "stdout",
     "output_type": "stream",
     "text": [
      "PARAMETRES DE MAILLE: \n",
      " <bound method IStructure.get_primitive_structure of Structure Summary\n",
      "Lattice\n",
      "    abc : 3.39093401 3.39093401 5.609546\n",
      " angles : 90.0 90.0 120.00000023\n",
      " volume : 55.859497011955696\n",
      "      A : 3.39093401 0.0 2.0763482407331994e-16\n",
      "      B : -1.6954670167884085 2.936634988410595 2.0763482407331994e-16\n",
      "      C : 0.0 0.0 5.609546\n",
      "PeriodicSite: B (1.6955, 0.9789, 4.9065) [0.6667, 0.3333, 0.8747]\n",
      "PeriodicSite: B (-0.0000, 1.9578, 2.1018) [0.3333, 0.6667, 0.3747]\n",
      "PeriodicSite: As (1.6955, 0.9789, 2.8066) [0.6667, 0.3333, 0.5003]\n",
      "PeriodicSite: As (-0.0000, 1.9578, 0.0018) [0.3333, 0.6667, 0.0003]>\n",
      "\n",
      " VECTEURS RESEAU DIRECT: \n",
      "  a=[3.390934, 0.0, 0.0] \n",
      "  b=[-1.695467, 2.936635, 0.0] \n",
      "  c=[0.0, 0.0, 5.609546]\n",
      "\n",
      " VECTEURS RESEAU RECIPROQUE: \n",
      "  a_star=[ 1.85293648  1.06979337 -0.        ] \n",
      "  b_star=[0.         2.13958674 0.        ] \n",
      "  c_star=[ 0.         -0.          1.12008803]\n",
      "\n",
      "TYPE DE MAILLE: Primmitive (voir graphique 3D)\n",
      "\n",
      "SYSTEME CRISTALLIN: Hexagonal (voir paramètres de mailles ci dessus & graphique 3D)\n",
      "\n",
      "GROUPE PONCTUEL: 6mm (voir graphique 3D)\n",
      "\n"
     ]
    }
   ],
   "source": [
    "view = quick_view(struct, \"packed\", supercell = [1,1,1])\n",
    "display(view)\n",
    "print(\"PARAMETRES DE MAILLE: \\n\",struct.get_primitive_structure)\n",
    "print(\"\\n VECTEURS RESEAU DIRECT: \\n  a={} \\n  b={} \\n  c={}\".format(a,b,c))\n",
    "print(\"\\n VECTEURS RESEAU RECIPROQUE: \\n  a_star={} \\n  b_star={} \\n  c_star={}\\n\".format(a_star,b_star,c_star))\n",
    "print(\"TYPE DE MAILLE: Primmitive (voir graphique 3D)\\n\")\n",
    "print(\"SYSTEME CRISTALLIN: Hexagonal (voir paramètres de mailles ci dessus & graphique 3D)\\n\")\n",
    "print(\"GROUPE PONCTUEL: 6mm (voir graphique 3D)\\n\")"
   ]
  },
  {
   "cell_type": "code",
   "execution_count": null,
   "id": "smart-value",
   "metadata": {},
   "outputs": [],
   "source": []
  }
 ],
 "metadata": {
  "kernelspec": {
   "display_name": "Python 3",
   "language": "python",
   "name": "python3"
  },
  "language_info": {
   "codemirror_mode": {
    "name": "ipython",
    "version": 3
   },
   "file_extension": ".py",
   "mimetype": "text/x-python",
   "name": "python",
   "nbconvert_exporter": "python",
   "pygments_lexer": "ipython3",
   "version": "3.6.8"
  }
 },
 "nbformat": 4,
 "nbformat_minor": 5
}
