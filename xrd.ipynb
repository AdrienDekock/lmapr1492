{
 "cells": [
  {
   "cell_type": "code",
   "execution_count": 1,
   "id": "skilled-history",
   "metadata": {},
   "outputs": [],
   "source": [
    "from pymatgen.ext.matproj import MPRester\n",
    "from pymatgen.io.cif import CifWriter\n",
    "\n",
    "structure = MPRester(\"Sq4cCPhZ9eNQbF83\").get_structure_by_material_id(\"mp-984718\")\n",
    "structure.to(filename=\"BAs_mp-984718.cif\")\n",
    "CifWriter(structure,0.1, write_magmoms=False).write_file(\"BAs_mp-984718_symmetrized.cif\")"
   ]
  },
  {
   "cell_type": "code",
   "execution_count": 35,
   "id": "spare-affiliation",
   "metadata": {},
   "outputs": [
    {
     "name": "stdout",
     "output_type": "stream",
     "text": [
      "Diffraction par un rayonnement X incident CuKα de longueur d’onde λ=1.54060 Å.\n",
      "\n",
      "Pic numéro 1:\n",
      "  Angle 2θ = 30.44°\n",
      "  Amplitude = 33.33%\n",
      "  Indices (h,k,i,l) = (1, 0, -1, 0)\n",
      "  Distance inter-plans= 2.937Å\n",
      "\n",
      "Pic numéro 2:\n",
      "  Angle 2θ = 31.91°\n",
      "  Amplitude = 32.07%\n",
      "  Indices (h,k,i,l) = (0, 0, 0, 2)\n",
      "  Distance inter-plans= 2.805Å\n",
      "\n",
      "Pic numéro 3:\n",
      "  Angle 2θ = 34.47°\n",
      "  Amplitude = 100.00%\n",
      "  Indices (h,k,i,l) = (1, 0, -1, 1)\n",
      "  Distance inter-plans= 2.602Å\n",
      "\n"
     ]
    }
   ],
   "source": [
    "from pymatgen.analysis.diffraction.xrd import XRDCalculator\n",
    "\n",
    "MyDiffract = XRDCalculator(symprec=0.1).get_pattern(structure)\n",
    "print(\"Diffraction par un rayonnement X incident CuKα de longueur d’onde λ=1.54060 Å.\\n\")\n",
    "for i in range(3):\n",
    "    print(\"Pic numéro {}:\".format(i+1))\n",
    "    print(\"  Angle 2θ = {:.2f}°\".format(MyDiffract.x[i]))\n",
    "    print(\"  Amplitude = {:.2f}%\".format(MyDiffract.y[i]))\n",
    "    print(\"  Indices (h,k,i,l) = {}\".format(MyDiffract.hkls[i][0]['hkl']))\n",
    "    print(\"  Distance inter-plans= {:.3f}Å\\n\".format(MyDiffract.d_hkls[i]))"
   ]
  },
  {
   "cell_type": "code",
   "execution_count": null,
   "id": "closed-collins",
   "metadata": {},
   "outputs": [],
   "source": []
  }
 ],
 "metadata": {
  "kernelspec": {
   "display_name": "Python 3",
   "language": "python",
   "name": "python3"
  },
  "language_info": {
   "codemirror_mode": {
    "name": "ipython",
    "version": 3
   },
   "file_extension": ".py",
   "mimetype": "text/x-python",
   "name": "python",
   "nbconvert_exporter": "python",
   "pygments_lexer": "ipython3",
   "version": "3.6.8"
  }
 },
 "nbformat": 4,
 "nbformat_minor": 5
}
